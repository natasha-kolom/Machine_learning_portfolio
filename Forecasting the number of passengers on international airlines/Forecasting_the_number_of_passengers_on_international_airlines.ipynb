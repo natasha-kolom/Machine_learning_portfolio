{
  "cells": [
    {
      "cell_type": "markdown",
      "metadata": {
        "id": "DDAVWy7b3tjn"
      },
      "source": [
        "# Forecasting the number of passengers on international airlines\n",
        "The main task of the project is to predict the number of international airline passengers in units of 1,000 for a given year and month.\n",
        "\n",
        "The dataset has only one characteristic: ‘Number of passengers’ - `Passengers`.\n",
        "\n",
        "The goal of this project is to use LSTM to build a neural network for time prediction."
      ]
    },
    {
      "cell_type": "markdown",
      "metadata": {
        "id": "Vd_MuyGq3tjo"
      },
      "source": [
        "# Project Structure\n",
        "- [Data Preprocessing](#data-preprocessing)\n",
        "- [Create model using LSTM](#lstm)\n",
        "- [DataLoader](#dataloader)\n",
        "- [LSTM with Adam-optimiser](#lstm-adam)\n",
        "- [Model Evaluation](#model-evaluation)"
      ]
    },
    {
      "cell_type": "code",
      "execution_count": 41,
      "metadata": {
        "id": "hw3dGYsyluYm"
      },
      "outputs": [],
      "source": [
        "import pandas as pd\n",
        "import numpy as np\n",
        "from matplotlib import pyplot as plt\n",
        "import torch\n",
        "import matplotlib.pyplot as plt\n",
        "import matplotlib.ticker as ticker\n",
        "import torch.nn as nn\n",
        "import torch.utils.data as data\n",
        "import torch.optim as optim\n"
      ]
    },
    {
      "cell_type": "markdown",
      "metadata": {
        "id": "IUSn0fxV3tjq"
      },
      "source": [
        "# <a id=\"data-preprocessing\">Data Preprocessing</a>"
      ]
    },
    {
      "cell_type": "code",
      "execution_count": 2,
      "metadata": {
        "colab": {
          "base_uri": "https://localhost:8080/",
          "height": 238
        },
        "outputId": "9959a0c9-f969-4316-fd30-16399d6df61a",
        "id": "RKUcLkr23tjq"
      },
      "outputs": [
        {
          "output_type": "display_data",
          "data": {
            "text/plain": [
              "         Passengers\n",
              "Month              \n",
              "1949-01         112\n",
              "1949-02         118\n",
              "1949-03         132\n",
              "1949-04         129\n",
              "1949-05         121"
            ],
            "text/html": [
              "\n",
              "  <div id=\"df-e10734ef-597b-404a-b663-6cc43e54779e\" class=\"colab-df-container\">\n",
              "    <div>\n",
              "<style scoped>\n",
              "    .dataframe tbody tr th:only-of-type {\n",
              "        vertical-align: middle;\n",
              "    }\n",
              "\n",
              "    .dataframe tbody tr th {\n",
              "        vertical-align: top;\n",
              "    }\n",
              "\n",
              "    .dataframe thead th {\n",
              "        text-align: right;\n",
              "    }\n",
              "</style>\n",
              "<table border=\"1\" class=\"dataframe\">\n",
              "  <thead>\n",
              "    <tr style=\"text-align: right;\">\n",
              "      <th></th>\n",
              "      <th>Passengers</th>\n",
              "    </tr>\n",
              "    <tr>\n",
              "      <th>Month</th>\n",
              "      <th></th>\n",
              "    </tr>\n",
              "  </thead>\n",
              "  <tbody>\n",
              "    <tr>\n",
              "      <th>1949-01</th>\n",
              "      <td>112</td>\n",
              "    </tr>\n",
              "    <tr>\n",
              "      <th>1949-02</th>\n",
              "      <td>118</td>\n",
              "    </tr>\n",
              "    <tr>\n",
              "      <th>1949-03</th>\n",
              "      <td>132</td>\n",
              "    </tr>\n",
              "    <tr>\n",
              "      <th>1949-04</th>\n",
              "      <td>129</td>\n",
              "    </tr>\n",
              "    <tr>\n",
              "      <th>1949-05</th>\n",
              "      <td>121</td>\n",
              "    </tr>\n",
              "  </tbody>\n",
              "</table>\n",
              "</div>\n",
              "    <div class=\"colab-df-buttons\">\n",
              "\n",
              "  <div class=\"colab-df-container\">\n",
              "    <button class=\"colab-df-convert\" onclick=\"convertToInteractive('df-e10734ef-597b-404a-b663-6cc43e54779e')\"\n",
              "            title=\"Convert this dataframe to an interactive table.\"\n",
              "            style=\"display:none;\">\n",
              "\n",
              "  <svg xmlns=\"http://www.w3.org/2000/svg\" height=\"24px\" viewBox=\"0 -960 960 960\">\n",
              "    <path d=\"M120-120v-720h720v720H120Zm60-500h600v-160H180v160Zm220 220h160v-160H400v160Zm0 220h160v-160H400v160ZM180-400h160v-160H180v160Zm440 0h160v-160H620v160ZM180-180h160v-160H180v160Zm440 0h160v-160H620v160Z\"/>\n",
              "  </svg>\n",
              "    </button>\n",
              "\n",
              "  <style>\n",
              "    .colab-df-container {\n",
              "      display:flex;\n",
              "      gap: 12px;\n",
              "    }\n",
              "\n",
              "    .colab-df-convert {\n",
              "      background-color: #E8F0FE;\n",
              "      border: none;\n",
              "      border-radius: 50%;\n",
              "      cursor: pointer;\n",
              "      display: none;\n",
              "      fill: #1967D2;\n",
              "      height: 32px;\n",
              "      padding: 0 0 0 0;\n",
              "      width: 32px;\n",
              "    }\n",
              "\n",
              "    .colab-df-convert:hover {\n",
              "      background-color: #E2EBFA;\n",
              "      box-shadow: 0px 1px 2px rgba(60, 64, 67, 0.3), 0px 1px 3px 1px rgba(60, 64, 67, 0.15);\n",
              "      fill: #174EA6;\n",
              "    }\n",
              "\n",
              "    .colab-df-buttons div {\n",
              "      margin-bottom: 4px;\n",
              "    }\n",
              "\n",
              "    [theme=dark] .colab-df-convert {\n",
              "      background-color: #3B4455;\n",
              "      fill: #D2E3FC;\n",
              "    }\n",
              "\n",
              "    [theme=dark] .colab-df-convert:hover {\n",
              "      background-color: #434B5C;\n",
              "      box-shadow: 0px 1px 3px 1px rgba(0, 0, 0, 0.15);\n",
              "      filter: drop-shadow(0px 1px 2px rgba(0, 0, 0, 0.3));\n",
              "      fill: #FFFFFF;\n",
              "    }\n",
              "  </style>\n",
              "\n",
              "    <script>\n",
              "      const buttonEl =\n",
              "        document.querySelector('#df-e10734ef-597b-404a-b663-6cc43e54779e button.colab-df-convert');\n",
              "      buttonEl.style.display =\n",
              "        google.colab.kernel.accessAllowed ? 'block' : 'none';\n",
              "\n",
              "      async function convertToInteractive(key) {\n",
              "        const element = document.querySelector('#df-e10734ef-597b-404a-b663-6cc43e54779e');\n",
              "        const dataTable =\n",
              "          await google.colab.kernel.invokeFunction('convertToInteractive',\n",
              "                                                    [key], {});\n",
              "        if (!dataTable) return;\n",
              "\n",
              "        const docLinkHtml = 'Like what you see? Visit the ' +\n",
              "          '<a target=\"_blank\" href=https://colab.research.google.com/notebooks/data_table.ipynb>data table notebook</a>'\n",
              "          + ' to learn more about interactive tables.';\n",
              "        element.innerHTML = '';\n",
              "        dataTable['output_type'] = 'display_data';\n",
              "        await google.colab.output.renderOutput(dataTable, element);\n",
              "        const docLink = document.createElement('div');\n",
              "        docLink.innerHTML = docLinkHtml;\n",
              "        element.appendChild(docLink);\n",
              "      }\n",
              "    </script>\n",
              "  </div>\n",
              "\n",
              "\n",
              "<div id=\"df-7d93f946-296f-4fab-bf51-f1a76ddb16b3\">\n",
              "  <button class=\"colab-df-quickchart\" onclick=\"quickchart('df-7d93f946-296f-4fab-bf51-f1a76ddb16b3')\"\n",
              "            title=\"Suggest charts\"\n",
              "            style=\"display:none;\">\n",
              "\n",
              "<svg xmlns=\"http://www.w3.org/2000/svg\" height=\"24px\"viewBox=\"0 0 24 24\"\n",
              "     width=\"24px\">\n",
              "    <g>\n",
              "        <path d=\"M19 3H5c-1.1 0-2 .9-2 2v14c0 1.1.9 2 2 2h14c1.1 0 2-.9 2-2V5c0-1.1-.9-2-2-2zM9 17H7v-7h2v7zm4 0h-2V7h2v10zm4 0h-2v-4h2v4z\"/>\n",
              "    </g>\n",
              "</svg>\n",
              "  </button>\n",
              "\n",
              "<style>\n",
              "  .colab-df-quickchart {\n",
              "      --bg-color: #E8F0FE;\n",
              "      --fill-color: #1967D2;\n",
              "      --hover-bg-color: #E2EBFA;\n",
              "      --hover-fill-color: #174EA6;\n",
              "      --disabled-fill-color: #AAA;\n",
              "      --disabled-bg-color: #DDD;\n",
              "  }\n",
              "\n",
              "  [theme=dark] .colab-df-quickchart {\n",
              "      --bg-color: #3B4455;\n",
              "      --fill-color: #D2E3FC;\n",
              "      --hover-bg-color: #434B5C;\n",
              "      --hover-fill-color: #FFFFFF;\n",
              "      --disabled-bg-color: #3B4455;\n",
              "      --disabled-fill-color: #666;\n",
              "  }\n",
              "\n",
              "  .colab-df-quickchart {\n",
              "    background-color: var(--bg-color);\n",
              "    border: none;\n",
              "    border-radius: 50%;\n",
              "    cursor: pointer;\n",
              "    display: none;\n",
              "    fill: var(--fill-color);\n",
              "    height: 32px;\n",
              "    padding: 0;\n",
              "    width: 32px;\n",
              "  }\n",
              "\n",
              "  .colab-df-quickchart:hover {\n",
              "    background-color: var(--hover-bg-color);\n",
              "    box-shadow: 0 1px 2px rgba(60, 64, 67, 0.3), 0 1px 3px 1px rgba(60, 64, 67, 0.15);\n",
              "    fill: var(--button-hover-fill-color);\n",
              "  }\n",
              "\n",
              "  .colab-df-quickchart-complete:disabled,\n",
              "  .colab-df-quickchart-complete:disabled:hover {\n",
              "    background-color: var(--disabled-bg-color);\n",
              "    fill: var(--disabled-fill-color);\n",
              "    box-shadow: none;\n",
              "  }\n",
              "\n",
              "  .colab-df-spinner {\n",
              "    border: 2px solid var(--fill-color);\n",
              "    border-color: transparent;\n",
              "    border-bottom-color: var(--fill-color);\n",
              "    animation:\n",
              "      spin 1s steps(1) infinite;\n",
              "  }\n",
              "\n",
              "  @keyframes spin {\n",
              "    0% {\n",
              "      border-color: transparent;\n",
              "      border-bottom-color: var(--fill-color);\n",
              "      border-left-color: var(--fill-color);\n",
              "    }\n",
              "    20% {\n",
              "      border-color: transparent;\n",
              "      border-left-color: var(--fill-color);\n",
              "      border-top-color: var(--fill-color);\n",
              "    }\n",
              "    30% {\n",
              "      border-color: transparent;\n",
              "      border-left-color: var(--fill-color);\n",
              "      border-top-color: var(--fill-color);\n",
              "      border-right-color: var(--fill-color);\n",
              "    }\n",
              "    40% {\n",
              "      border-color: transparent;\n",
              "      border-right-color: var(--fill-color);\n",
              "      border-top-color: var(--fill-color);\n",
              "    }\n",
              "    60% {\n",
              "      border-color: transparent;\n",
              "      border-right-color: var(--fill-color);\n",
              "    }\n",
              "    80% {\n",
              "      border-color: transparent;\n",
              "      border-right-color: var(--fill-color);\n",
              "      border-bottom-color: var(--fill-color);\n",
              "    }\n",
              "    90% {\n",
              "      border-color: transparent;\n",
              "      border-bottom-color: var(--fill-color);\n",
              "    }\n",
              "  }\n",
              "</style>\n",
              "\n",
              "  <script>\n",
              "    async function quickchart(key) {\n",
              "      const quickchartButtonEl =\n",
              "        document.querySelector('#' + key + ' button');\n",
              "      quickchartButtonEl.disabled = true;  // To prevent multiple clicks.\n",
              "      quickchartButtonEl.classList.add('colab-df-spinner');\n",
              "      try {\n",
              "        const charts = await google.colab.kernel.invokeFunction(\n",
              "            'suggestCharts', [key], {});\n",
              "      } catch (error) {\n",
              "        console.error('Error during call to suggestCharts:', error);\n",
              "      }\n",
              "      quickchartButtonEl.classList.remove('colab-df-spinner');\n",
              "      quickchartButtonEl.classList.add('colab-df-quickchart-complete');\n",
              "    }\n",
              "    (() => {\n",
              "      let quickchartButtonEl =\n",
              "        document.querySelector('#df-7d93f946-296f-4fab-bf51-f1a76ddb16b3 button');\n",
              "      quickchartButtonEl.style.display =\n",
              "        google.colab.kernel.accessAllowed ? 'block' : 'none';\n",
              "    })();\n",
              "  </script>\n",
              "</div>\n",
              "\n",
              "    </div>\n",
              "  </div>\n"
            ],
            "application/vnd.google.colaboratory.intrinsic+json": {
              "type": "dataframe",
              "summary": "{\n  \"name\": \"display(df\",\n  \"rows\": 5,\n  \"fields\": [\n    {\n      \"column\": \"Month\",\n      \"properties\": {\n        \"dtype\": \"object\",\n        \"num_unique_values\": 5,\n        \"samples\": [\n          \"1949-02\",\n          \"1949-05\",\n          \"1949-03\"\n        ],\n        \"semantic_type\": \"\",\n        \"description\": \"\"\n      }\n    },\n    {\n      \"column\": \"Passengers\",\n      \"properties\": {\n        \"dtype\": \"number\",\n        \"std\": 8,\n        \"min\": 112,\n        \"max\": 132,\n        \"num_unique_values\": 5,\n        \"samples\": [\n          118,\n          121,\n          132\n        ],\n        \"semantic_type\": \"\",\n        \"description\": \"\"\n      }\n    }\n  ]\n}"
            }
          },
          "metadata": {}
        }
      ],
      "source": [
        "# Downloading data\n",
        "url = \"https://raw.githubusercontent.com/jbrownlee/Datasets/master/airline-passengers.csv\"\n",
        "df = pd.read_csv(url)\n",
        "df.set_index('Month', inplace=True)\n",
        "display(df.head())"
      ]
    },
    {
      "cell_type": "markdown",
      "metadata": {
        "id": "BCcNvF28wSH3"
      },
      "source": [
        "Let's create a variable of type numpy.ndarray that contains the number of passengers in float32 format. We need this data format to train the neural network."
      ]
    },
    {
      "cell_type": "code",
      "execution_count": 52,
      "metadata": {
        "id": "7PcJkPAoBOH5"
      },
      "outputs": [],
      "source": [
        "passengers = df['Passengers'].values.astype('float32')"
      ]
    },
    {
      "cell_type": "code",
      "execution_count": 4,
      "metadata": {
        "colab": {
          "base_uri": "https://localhost:8080/"
        },
        "id": "QdALoxsg1KLY",
        "outputId": "2ee03916-5411-45c5-9687-bd85fb5fea19"
      },
      "outputs": [
        {
          "output_type": "execute_result",
          "data": {
            "text/plain": [
              "numpy.ndarray"
            ]
          },
          "metadata": {},
          "execution_count": 4
        }
      ],
      "source": [
        "type(passengers)"
      ]
    },
    {
      "cell_type": "code",
      "execution_count": 5,
      "metadata": {
        "colab": {
          "base_uri": "https://localhost:8080/"
        },
        "id": "BAp0vX7H1Ss2",
        "outputId": "20a4eacf-b58e-45bf-d754-f63660fe67a2"
      },
      "outputs": [
        {
          "output_type": "execute_result",
          "data": {
            "text/plain": [
              "array([112., 118., 132., 129., 121.], dtype=float32)"
            ]
          },
          "metadata": {},
          "execution_count": 5
        }
      ],
      "source": [
        "passengers[:5]"
      ]
    },
    {
      "cell_type": "markdown",
      "metadata": {
        "id": "vESTxq-OxLRK"
      },
      "source": [
        "Let's break down the data into training and validation data in the ratio of 67% for training and 33% for validation. Since we work with time series, we train on older ones and validate on newer ones."
      ]
    },
    {
      "cell_type": "code",
      "execution_count": 53,
      "metadata": {
        "id": "USpGte_tBPR1"
      },
      "outputs": [],
      "source": [
        "train, test = passengers[:int(len(passengers)*0.67)], passengers[int(len(passengers)*0.67):]"
      ]
    },
    {
      "cell_type": "markdown",
      "metadata": {
        "id": "YB-e-vEDx3bn"
      },
      "source": [
        "We implement the `create_dataset` function, which converts a one-dimensional time series (dataset) into a format suitable for training a neural network.\n",
        "\n",
        "We will predict the number of passengers on the previous day based on the number of passengers on the next day, so `lookback == 1`."
      ]
    },
    {
      "cell_type": "code",
      "execution_count": 75,
      "metadata": {
        "id": "s5UXOiAHBVwe"
      },
      "outputs": [],
      "source": [
        "def create_dataset(dataset, lookback):\n",
        "    X, y = [], []\n",
        "\n",
        "    for i in range(len(dataset) - lookback):\n",
        "        window = dataset[i:(i + lookback)]\n",
        "        X.append(window)\n",
        "        target = dataset[i+1:i+lookback+1]\n",
        "        y.append(target)\n",
        "\n",
        "\n",
        "    X = torch.tensor(X)\n",
        "    y = torch.tensor(y)\n",
        "\n",
        "    return X, y\n"
      ]
    },
    {
      "cell_type": "code",
      "execution_count": 76,
      "metadata": {
        "colab": {
          "base_uri": "https://localhost:8080/"
        },
        "id": "dA8FwOfwuPyl",
        "outputId": "4bd092c3-e0d3-4ed3-cf2a-f73b626052fb"
      },
      "outputs": [
        {
          "output_type": "stream",
          "name": "stdout",
          "text": [
            "torch.Size([95, 1]) torch.Size([95, 1])\n",
            "torch.Size([47, 1]) torch.Size([47, 1])\n"
          ]
        }
      ],
      "source": [
        "lookback = 1\n",
        "X_train, y_train = create_dataset(train, lookback=lookback)\n",
        "X_test, y_test = create_dataset(test, lookback=lookback)\n",
        "print(X_train.shape, y_train.shape)\n",
        "print(X_test.shape, y_test.shape)"
      ]
    },
    {
      "cell_type": "markdown",
      "metadata": {
        "id": "eeiFJ-jDznj5"
      },
      "source": [
        "# <a id=\"lstm\">Create model using LSTM</a>\n",
        "## AirModel class is a neural network for predicting the number of passengers using LSTM."
      ]
    },
    {
      "cell_type": "code",
      "execution_count": 80,
      "metadata": {
        "id": "dcafrsmrDHsz"
      },
      "outputs": [],
      "source": [
        "class AirModel(nn.Module):\n",
        "    def __init__(self, hidden_size, num_layers, input_size=1):\n",
        "        super(AirModel, self).__init__()\n",
        "        self.hidden_syze = hidden_size\n",
        "        self.num_layers = num_layers\n",
        "        self.lstm = nn.LSTM(input_size, hidden_size, num_layers=1, batch_first=True)\n",
        "        self.linear = nn.Linear(hidden_size, 1)\n",
        "\n",
        "    def forward(self, x):\n",
        "        x, _ = self.lstm(x)\n",
        "        x = self.linear(x)\n",
        "        return x\n",
        "\n",
        "# Create a model with values hidden_size=50, num_layers=1\n",
        "model = AirModel( hidden_size=50, num_layers=1)"
      ]
    },
    {
      "cell_type": "code",
      "execution_count": 81,
      "metadata": {
        "colab": {
          "base_uri": "https://localhost:8080/"
        },
        "id": "rxvlYQypCSyz",
        "outputId": "b7c66f00-7d5e-4438-f1a1-47ec754600f9"
      },
      "outputs": [
        {
          "output_type": "execute_result",
          "data": {
            "text/plain": [
              "tensor([[-0.0861]], grad_fn=<AddmmBackward0>)"
            ]
          },
          "metadata": {},
          "execution_count": 81
        }
      ],
      "source": [
        "input_tensor = torch.tensor([[112.]])\n",
        "model(input_tensor)"
      ]
    },
    {
      "cell_type": "markdown",
      "metadata": {
        "id": "-R6zv9nu2tWB"
      },
      "source": [
        "# <a id=\"dataloader\">DataLoader</a>\n",
        "## DataLoader object for loading data"
      ]
    },
    {
      "cell_type": "code",
      "source": [
        "batch_size = 8\n",
        "loader = data.DataLoader(data.TensorDataset(X_train, y_train), shuffle=True, batch_size=batch_size)"
      ],
      "metadata": {
        "id": "xnaL5YGg8wh4"
      },
      "execution_count": 82,
      "outputs": []
    },
    {
      "cell_type": "markdown",
      "metadata": {
        "id": "6ZaGh7IF2nfT"
      },
      "source": [
        "# <a id=\"lstm-adam\">LSTM with Adam-optimiser</a>\n",
        "## We implement training of the neural network `AirModel' for time series forecasting using Adam-optimiser and MSE loss function"
      ]
    },
    {
      "cell_type": "code",
      "execution_count": 83,
      "metadata": {
        "id": "DqBp9zccFDky"
      },
      "outputs": [],
      "source": [
        "def train_model(model):\n",
        "  optimizer = optim.Adam(model.parameters())\n",
        "  criterion = nn.MSELoss()\n",
        "\n",
        "  n_epochs = 2000\n",
        "  losses = []\n",
        "  for epoch in range(n_epochs):\n",
        "      model.train()\n",
        "      current_loss = 0\n",
        "      for X_batch, y_batch in loader:\n",
        "          model.zero_grad()\n",
        "          y_pred = model(X_batch)\n",
        "          loss = criterion(y_pred, y_batch)\n",
        "          loss.backward()\n",
        "          optimizer.step()\n",
        "          current_loss += loss.item()\n",
        "      losses.append(current_loss/batch_size)\n",
        "\n",
        "      # Model validation\n",
        "      if epoch % 100 == 0:\n",
        "        model.eval()\n",
        "        with torch.no_grad():\n",
        "            y_pred = model(X_train)\n",
        "            train_rmse = np.sqrt(criterion(y_pred, y_train))\n",
        "            y_pred = model(X_test)\n",
        "            test_rmse = np.sqrt(criterion(y_pred, y_test))\n",
        "        print(\"Epoch %d: train RMSE %.4f, test RMSE %.4f\" % (epoch, train_rmse, test_rmse))\n",
        "  return losses"
      ]
    },
    {
      "cell_type": "code",
      "execution_count": 84,
      "metadata": {
        "colab": {
          "base_uri": "https://localhost:8080/"
        },
        "id": "yNz7pLoSNWHF",
        "outputId": "3293b478-bd5b-45a5-cf70-bcd8d0bdb1f1"
      },
      "outputs": [
        {
          "output_type": "stream",
          "name": "stdout",
          "text": [
            "Epoch 0: train RMSE 225.9193, test RMSE 422.3810\n",
            "Epoch 100: train RMSE 178.4800, test RMSE 372.7002\n",
            "Epoch 200: train RMSE 139.4026, test RMSE 330.1209\n",
            "Epoch 300: train RMSE 106.1615, test RMSE 290.5550\n",
            "Epoch 400: train RMSE 83.9425, test RMSE 258.1235\n",
            "Epoch 500: train RMSE 63.8689, test RMSE 228.6869\n",
            "Epoch 600: train RMSE 48.7322, test RMSE 199.8417\n",
            "Epoch 700: train RMSE 39.0023, test RMSE 174.8251\n",
            "Epoch 800: train RMSE 32.0572, test RMSE 154.5554\n",
            "Epoch 900: train RMSE 28.5028, test RMSE 137.7550\n",
            "Epoch 1000: train RMSE 27.0186, test RMSE 128.9940\n",
            "Epoch 1100: train RMSE 25.2735, test RMSE 120.1244\n",
            "Epoch 1200: train RMSE 24.5075, test RMSE 110.1368\n",
            "Epoch 1300: train RMSE 23.9724, test RMSE 110.2425\n",
            "Epoch 1400: train RMSE 23.4233, test RMSE 102.3123\n",
            "Epoch 1500: train RMSE 23.4950, test RMSE 96.1291\n",
            "Epoch 1600: train RMSE 23.1118, test RMSE 99.4809\n",
            "Epoch 1700: train RMSE 23.3579, test RMSE 99.4936\n",
            "Epoch 1800: train RMSE 23.5435, test RMSE 95.6561\n",
            "Epoch 1900: train RMSE 22.8287, test RMSE 91.4256\n"
          ]
        }
      ],
      "source": [
        "losses = train_model(model)"
      ]
    },
    {
      "cell_type": "markdown",
      "metadata": {
        "id": "f3fao_bm3tjw"
      },
      "source": [
        "# <a id=\"model-evaluation\">Model Evaluation</a>"
      ]
    },
    {
      "cell_type": "markdown",
      "metadata": {
        "id": "m0sIo4kp5X_s"
      },
      "source": [
        "Let's build a graph of errors."
      ]
    },
    {
      "cell_type": "code",
      "execution_count": 85,
      "metadata": {
        "colab": {
          "base_uri": "https://localhost:8080/",
          "height": 432
        },
        "id": "AS2USLRq76up",
        "outputId": "3489d724-9fad-43cd-bda8-d68c03e9d480"
      },
      "outputs": [
        {
          "output_type": "display_data",
          "data": {
            "text/plain": [
              "<Figure size 640x480 with 1 Axes>"
            ],
            "image/png": "[encoded data removed]"
          },
          "metadata": {}
        }
      ],
      "source": [
        "plt.plot(losses);"
      ]
    },
    {
      "cell_type": "code",
      "execution_count": 86,
      "metadata": {
        "colab": {
          "base_uri": "https://localhost:8080/",
          "height": 430
        },
        "id": "ZznU2AK0vES5",
        "outputId": "e2595f62-f3c3-4a54-8116-411a9f7b7534"
      },
      "outputs": [
        {
          "output_type": "display_data",
          "data": {
            "text/plain": [
              "<Figure size 640x480 with 1 Axes>"
            ],
            "image/png": "[encoded data removed]"
          },
          "metadata": {}
        }
      ],
      "source": [
        "def plot_predicts():\n",
        "  with torch.no_grad():\n",
        "      # Shift in predictions for training data\n",
        "      train_plot = np.ones_like(passengers) * np.nan\n",
        "      y_pred = model(X_train)\n",
        "      y_pred = y_pred[:, -1]\n",
        "      train_plot[lookback:len(train)] = model(X_train)[:, -1]\n",
        "\n",
        "      # Shift in predictions for test data\n",
        "      test_plot = np.ones_like(passengers) * np.nan\n",
        "      test_plot[len(train)+lookback:len(passengers)] = model(X_test)[:, -1]\n",
        "\n",
        "  # Visualisation of results\n",
        "  plt.plot(passengers, c='b')  # Real data\n",
        "  plt.plot(train_plot, c='r')  # Predictions based on training data\n",
        "  plt.plot(test_plot, c='g')   # Predictions on test data\n",
        "  plt.show()\n",
        "\n",
        "plot_predicts()"
      ]
    },
    {
      "cell_type": "markdown",
      "metadata": {
        "id": "PhoeHLus-xIr"
      },
      "source": [
        "Let's train the model with hidden_size=100 and compare the results with the previous ones."
      ]
    },
    {
      "cell_type": "code",
      "execution_count": 87,
      "metadata": {
        "id": "92032N_E_PxY"
      },
      "outputs": [],
      "source": [
        "model = AirModel( hidden_size=200, num_layers=1)"
      ]
    },
    {
      "cell_type": "code",
      "execution_count": 88,
      "metadata": {
        "colab": {
          "base_uri": "https://localhost:8080/"
        },
        "id": "dDt0HExzLAkr",
        "outputId": "f4000831-361a-4f74-8f50-d4871011c0e7"
      },
      "outputs": [
        {
          "output_type": "stream",
          "name": "stdout",
          "text": [
            "Epoch 0: train RMSE 224.5480, test RMSE 421.3453\n",
            "Epoch 100: train RMSE 77.5590, test RMSE 245.5449\n",
            "Epoch 200: train RMSE 38.5287, test RMSE 174.1830\n",
            "Epoch 300: train RMSE 28.1939, test RMSE 137.7684\n",
            "Epoch 400: train RMSE 24.4262, test RMSE 112.0053\n",
            "Epoch 500: train RMSE 23.0520, test RMSE 94.9711\n",
            "Epoch 600: train RMSE 23.9671, test RMSE 86.7844\n",
            "Epoch 700: train RMSE 23.7676, test RMSE 87.8659\n",
            "Epoch 800: train RMSE 23.2324, test RMSE 81.0161\n",
            "Epoch 900: train RMSE 23.0963, test RMSE 79.1943\n",
            "Epoch 1000: train RMSE 23.1241, test RMSE 81.1462\n",
            "Epoch 1100: train RMSE 22.6203, test RMSE 75.0385\n",
            "Epoch 1200: train RMSE 22.8573, test RMSE 74.8422\n",
            "Epoch 1300: train RMSE 22.6560, test RMSE 70.1118\n",
            "Epoch 1400: train RMSE 22.7711, test RMSE 73.9737\n",
            "Epoch 1500: train RMSE 22.5809, test RMSE 69.2659\n",
            "Epoch 1600: train RMSE 23.6263, test RMSE 73.2784\n",
            "Epoch 1700: train RMSE 22.8781, test RMSE 78.1586\n",
            "Epoch 1800: train RMSE 22.2234, test RMSE 71.1096\n",
            "Epoch 1900: train RMSE 22.4257, test RMSE 74.5662\n"
          ]
        }
      ],
      "source": [
        "losses = train_model(model)"
      ]
    },
    {
      "cell_type": "code",
      "source": [
        "plot_predicts()"
      ],
      "metadata": {
        "colab": {
          "base_uri": "https://localhost:8080/",
          "height": 430
        },
        "id": "GUC0Xovl9eZH",
        "outputId": "5f8f5c5a-7576-4c80-bb00-3ab25ba54d70"
      },
      "execution_count": 90,
      "outputs": [
        {
          "output_type": "display_data",
          "data": {
            "text/plain": [
              "<Figure size 640x480 with 1 Axes>"
            ],
            "image/png": "[encoded data removed]"
          },
          "metadata": {}
        }
      ]
    },
    {
      "cell_type": "markdown",
      "source": [
        "As you can see from the graph, the model's performance has improved\n",
        "---\n",
        "\n"
      ],
      "metadata": {
        "id": "4LPn4K_eHBLf"
      }
    }
  ],
  "metadata": {
    "colab": {
      "provenance": []
    },
    "kernelspec": {
      "display_name": "Python 3 (ipykernel)",
      "language": "python",
      "name": "python3"
    },
    "language_info": {
      "codemirror_mode": {
        "name": "ipython",
        "version": 3
      },
      "file_extension": ".py",
      "mimetype": "text/x-python",
      "name": "python",
      "nbconvert_exporter": "python",
      "pygments_lexer": "ipython3",
      "version": "3.11.9"
    }
  },
  "nbformat": 4,
  "nbformat_minor": 0
}